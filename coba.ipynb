{
 "cells": [
  {
   "cell_type": "code",
   "execution_count": 5,
   "metadata": {},
   "outputs": [
    {
     "data": {
      "text/plain": [
       "True"
      ]
     },
     "execution_count": 5,
     "metadata": {},
     "output_type": "execute_result"
    }
   ],
   "source": [
    "import requests\n",
    "import re\n",
    "\n",
    "def is_valid_url(url):\n",
    "    # Regular expression for validating a URL\n",
    "    regex = re.compile(\n",
    "        r'^(https?:\\/\\/)?'  # http:// or https://\n",
    "        r'(([A-Za-z0-9-]+\\.)+[A-Za-z]{2,})'  # domain\n",
    "        r'(\\/\\S*)?$'  # path\n",
    "    )\n",
    "    return re.match(regex, url) is not None\n",
    "\n",
    "\n",
    "is_valid_url(\"https://hello.com/ma\")"
   ]
  },
  {
   "cell_type": "code",
   "execution_count": 8,
   "metadata": {},
   "outputs": [
    {
     "data": {
      "text/plain": [
       "True"
      ]
     },
     "execution_count": 8,
     "metadata": {},
     "output_type": "execute_result"
    }
   ],
   "source": [
    "\n",
    "def check_url_status(url):\n",
    "    try:\n",
    "        response = requests.head(url, allow_redirects=True, timeout=5)  # HEAD request for efficiency\n",
    "        if response.status_code < 400:\n",
    "            return True\n",
    "    except requests.RequestException as e:\n",
    "        print(f\"Error checking URL {url}: {e}\")\n",
    "    return False\n",
    "check_url_status(\"https://www.youtube.com/watch?v=jztwpsIzEGc\")"
   ]
  },
  {
   "cell_type": "code",
   "execution_count": 9,
   "metadata": {},
   "outputs": [
    {
     "data": {
      "text/plain": [
       "'20240610103015_0HWWTP'"
      ]
     },
     "execution_count": 9,
     "metadata": {},
     "output_type": "execute_result"
    }
   ],
   "source": [
    "\n",
    "\n",
    "def generate_unique_id():\n",
    "    timestamp = datetime.now().strftime('%Y%m%d%H%M%S')  # Current timestamp in a specific format\n",
    "    random_str = ''.join(random.choices(string.ascii_letters + string.digits, k=6))  # Random string of 6 characters\n",
    "    unique_id = f\"{timestamp}_{random_str}\"\n",
    "    return unique_id\n",
    "\n",
    "generate_unique_id()\n"
   ]
  }
 ],
 "metadata": {
  "kernelspec": {
   "display_name": "venv",
   "language": "python",
   "name": "python3"
  },
  "language_info": {
   "codemirror_mode": {
    "name": "ipython",
    "version": 3
   },
   "file_extension": ".py",
   "mimetype": "text/x-python",
   "name": "python",
   "nbconvert_exporter": "python",
   "pygments_lexer": "ipython3",
   "version": "3.11.8"
  }
 },
 "nbformat": 4,
 "nbformat_minor": 2
}
